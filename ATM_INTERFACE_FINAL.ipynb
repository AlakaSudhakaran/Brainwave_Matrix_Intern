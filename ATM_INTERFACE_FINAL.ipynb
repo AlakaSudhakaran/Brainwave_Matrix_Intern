{
 "cells": [
  {
   "cell_type": "markdown",
   "id": "7982dc8e-182e-496b-89f7-d25e9a68f07e",
   "metadata": {},
   "source": [
    "# ATM Interface Project Report\n"
   ]
  },
  {
   "cell_type": "markdown",
   "id": "7376f068-a907-4b7c-a4a0-31e6b163ef89",
   "metadata": {},
   "source": [
    "## 1. Introduction\n",
    "This report presents the development and implementation of an advanced ATM (Automated Teller Machine) interface using Python. The project was undertaken as part of a Python Programming internship, with the goal of creating a fully functional ATM interface."
   ]
  },
  {
   "cell_type": "markdown",
   "id": "4f46d789-c2e3-48e3-90aa-78e101a8e134",
   "metadata": {},
   "source": [
    "### 1.1 Project Objectives\n",
    "\n",
    "* Develop a functional ATM interface using Python\n",
    "* Implement core banking operations (balance inquiry, withdrawal, deposit, transfer)\n",
    "* Enhance the basic functionality with advanced features\n",
    "* Demonstrate proficiency in Python programming and software development concepts"
   ]
  },
  {
   "cell_type": "markdown",
   "id": "e78c7c68-d1d4-405c-bfb9-710604bf9c52",
   "metadata": {},
   "source": [
    "### 1.2 Technologies Used\n",
    "\n",
    "* Python 3.x\n",
    "* SQLite for database management\n",
    "* Matplotlib for data visualization\n",
    "* Jupyter Notebook for development and presentation"
   ]
  },
  {
   "cell_type": "markdown",
   "id": "ddf75fad-4613-4e30-bbab-963f9737e509",
   "metadata": {},
   "source": [
    "## 2. System Design"
   ]
  },
  {
   "cell_type": "markdown",
   "id": "dea2650b-babe-4864-a0ac-5a6048154077",
   "metadata": {},
   "source": [
    "### 2.1 Architecture Overview\n",
    "The ATM interface is designed with a modular architecture, separating core functionalities into distinct functions. The system uses a SQLite database for persistent storage of account information and transactions."
   ]
  },
  {
   "cell_type": "markdown",
   "id": "dec003c1-e099-427f-bb16-7b0f9852252d",
   "metadata": {},
   "source": [
    "### 2.2 Database Schema"
   ]
  },
  {
   "cell_type": "markdown",
   "id": "927cd37a-d439-4161-978a-b0f406356fdd",
   "metadata": {},
   "source": [
    "Two main tables are used in the database:\n",
    "\n",
    "#### 1.accounts table:\n",
    "\n",
    "* account_number (Primary Key)\n",
    "* pin_hash\n",
    "* balance\n",
    "* name\n",
    "  \n",
    "#### 2.transactions table:\n",
    "\n",
    "* id (Primary Key)\n",
    "* account_number\n",
    "* type\n",
    "* amount\n",
    "* timestamp\n",
    "* category"
   ]
  },
  {
   "cell_type": "markdown",
   "id": "08d3c7ee-97e2-4df1-858f-8d57305b31d9",
   "metadata": {},
   "source": [
    "### 2.3 Security Considerations\n",
    "\n",
    "* PINs are hashed using SHA-256 before storage\n",
    "* Sensitive input (PINs) uses the getpass module to mask input"
   ]
  },
  {
   "cell_type": "code",
   "execution_count": 1,
   "id": "c4487e1d-8daa-490c-abc5-be5c9267a54c",
   "metadata": {},
   "outputs": [],
   "source": [
    "import sqlite3\n",
    "import hashlib\n",
    "import os\n",
    "from datetime import datetime\n",
    "import matplotlib.pyplot as plt\n",
    "from getpass import getpass\n"
   ]
  },
  {
   "cell_type": "code",
   "execution_count": 2,
   "id": "799c5f88-23fa-401e-948e-21e027531cac",
   "metadata": {},
   "outputs": [],
   "source": [
    "conn = sqlite3.connect('atm.db')\n",
    "cursor = conn.cursor()"
   ]
  },
  {
   "cell_type": "code",
   "execution_count": 3,
   "id": "0930c4c7-34a0-4513-afcf-84ef4db3f58c",
   "metadata": {},
   "outputs": [
    {
     "data": {
      "text/plain": [
       "<sqlite3.Cursor at 0x24e410d8f80>"
      ]
     },
     "execution_count": 3,
     "metadata": {},
     "output_type": "execute_result"
    }
   ],
   "source": [
    "# Create tables if they don't exist\n",
    "cursor.execute('''\n",
    "CREATE TABLE IF NOT EXISTS accounts (\n",
    "    account_number TEXT PRIMARY KEY,\n",
    "    pin_hash TEXT,\n",
    "    balance REAL,\n",
    "    name TEXT\n",
    ")\n",
    "''')"
   ]
  },
  {
   "cell_type": "code",
   "execution_count": 4,
   "id": "a6335865-f8a6-49f0-8de6-e24d5ded2fad",
   "metadata": {},
   "outputs": [
    {
     "data": {
      "text/plain": [
       "<sqlite3.Cursor at 0x24e410d8f80>"
      ]
     },
     "execution_count": 4,
     "metadata": {},
     "output_type": "execute_result"
    }
   ],
   "source": [
    "cursor.execute('''\n",
    "CREATE TABLE IF NOT EXISTS transactions (\n",
    "    id INTEGER PRIMARY KEY,\n",
    "    account_number TEXT,\n",
    "    type TEXT,\n",
    "    amount REAL,\n",
    "    timestamp DATETIME,\n",
    "    category TEXT\n",
    ")\n",
    "''')"
   ]
  },
  {
   "cell_type": "code",
   "execution_count": 5,
   "id": "34a7378a-6b87-4941-a0c7-98ad03c7af50",
   "metadata": {},
   "outputs": [],
   "source": [
    "conn.commit()"
   ]
  },
  {
   "cell_type": "code",
   "execution_count": 6,
   "id": "e2c954cd-2150-40e3-96b3-83dde7d14f4c",
   "metadata": {},
   "outputs": [],
   "source": [
    "# Helper function for hashing PINs\n",
    "def hash_pin(pin):\n",
    "    return hashlib.sha256(pin.encode()).hexdigest()\n"
   ]
  },
  {
   "cell_type": "code",
   "execution_count": 7,
   "id": "9d5fe908-30e3-495e-8836-34f61c474d69",
   "metadata": {},
   "outputs": [],
   "source": [
    "# Initialize some accounts if the database is empty\n",
    "cursor.execute(\"SELECT COUNT(*) FROM accounts\")\n",
    "if cursor.fetchone()[0] == 0:\n",
    "    initial_accounts = [\n",
    "        ('12345', '1234', 1000, 'Alice'),\n",
    "        ('67890', '5678', 2000, 'Bob')\n",
    "    ]\n",
    "    for account in initial_accounts:\n",
    "        cursor.execute(\"INSERT INTO accounts VALUES (?, ?, ?, ?)\",\n",
    "                       (account[0], hash_pin(account[1]), account[2], account[3]))\n",
    "    conn.commit()"
   ]
  },
  {
   "cell_type": "markdown",
   "id": "44c79380-0ae2-452e-b26d-b43f8535e601",
   "metadata": {},
   "source": [
    " ATM functions."
   ]
  },
  {
   "cell_type": "code",
   "execution_count": 8,
   "id": "b5f5c94a-cb2d-4d79-a46d-1c0c5fb1226a",
   "metadata": {},
   "outputs": [],
   "source": [
    "def check_balance(account):\n",
    "    cursor.execute(\"SELECT balance FROM accounts WHERE account_number = ?\", (account,))\n",
    "    balance = cursor.fetchone()[0]\n",
    "    print(f\"Your current balance is ${balance:.2f}\")"
   ]
  },
  {
   "cell_type": "code",
   "execution_count": 9,
   "id": "a30bac4c-b3b1-47ba-bf83-5b9c7b10b0ea",
   "metadata": {},
   "outputs": [],
   "source": [
    "def withdraw(account):\n",
    "    amount = float(input(\"Enter the amount to withdraw: $\"))\n",
    "    cursor.execute(\"SELECT balance FROM accounts WHERE account_number = ?\", (account,))\n",
    "    balance = cursor.fetchone()[0]\n",
    "    if amount > balance:\n",
    "        print(\"Insufficient funds!\")\n",
    "    elif amount <= 0:\n",
    "        print(\"Invalid amount!\")\n",
    "    else:\n",
    "        new_balance = balance - amount\n",
    "        cursor.execute(\"UPDATE accounts SET balance = ? WHERE account_number = ?\", (new_balance, account))\n",
    "        log_transaction(account, \"withdrawal\", -amount)\n",
    "        conn.commit()\n",
    "        print(f\"Withdrawn ${amount:.2f}. New balance: ${new_balance:.2f}\")\n"
   ]
  },
  {
   "cell_type": "code",
   "execution_count": 10,
   "id": "f89a1af8-6cd5-4e9e-9083-0d5a2cead7c6",
   "metadata": {},
   "outputs": [],
   "source": [
    "def deposit(account):\n",
    "    amount = float(input(\"Enter the amount to deposit: $\"))\n",
    "    if amount <= 0:\n",
    "        print(\"Invalid amount!\")\n",
    "    else:\n",
    "        cursor.execute(\"SELECT balance FROM accounts WHERE account_number = ?\", (account,))\n",
    "        balance = cursor.fetchone()[0]\n",
    "        new_balance = balance + amount\n",
    "        cursor.execute(\"UPDATE accounts SET balance = ? WHERE account_number = ?\", (new_balance, account))\n",
    "        log_transaction(account, \"deposit\", amount)\n",
    "        conn.commit()\n",
    "        print(f\"Deposited ${amount:.2f}. New balance: ${new_balance:.2f}\")"
   ]
  },
  {
   "cell_type": "code",
   "execution_count": 11,
   "id": "66980288-1ce4-4a37-b2c2-c9ba06bbe8a3",
   "metadata": {},
   "outputs": [],
   "source": [
    "def transfer(account):\n",
    "    target = input(\"Enter the account number to transfer to: \")\n",
    "    cursor.execute(\"SELECT account_number FROM accounts WHERE account_number = ?\", (target,))\n",
    "    if cursor.fetchone() is None:\n",
    "        print(\"Target account does not exist!\")\n",
    "        return\n",
    "    amount = float(input(\"Enter the amount to transfer: $\"))\n",
    "    cursor.execute(\"SELECT balance FROM accounts WHERE account_number = ?\", (account,))\n",
    "    balance = cursor.fetchone()[0]\n",
    "    if amount > balance:\n",
    "        print(\"Insufficient funds!\")\n",
    "    elif amount <= 0:\n",
    "        print(\"Invalid amount!\")\n",
    "    else:\n",
    "        new_balance = balance - amount\n",
    "        cursor.execute(\"UPDATE accounts SET balance = ? WHERE account_number = ?\", (new_balance, account))\n",
    "        cursor.execute(\"UPDATE accounts SET balance = balance + ? WHERE account_number = ?\", (amount, target))\n",
    "        log_transaction(account, \"transfer out\", -amount)\n",
    "        log_transaction(target, \"transfer in\", amount)\n",
    "        conn.commit()\n",
    "        print(f\"Transferred ${amount:.2f} to account {target}.\")\n",
    "        print(f\"New balance: ${new_balance:.2f}\")"
   ]
  },
  {
   "cell_type": "code",
   "execution_count": 12,
   "id": "f08f8262-8211-40b7-a081-876c6df8f2ef",
   "metadata": {},
   "outputs": [],
   "source": [
    "def log_transaction(account, transaction_type, amount):\n",
    "    category = input(\"Enter transaction category (e.g., food, entertainment, bills): \")\n",
    "    cursor.execute(\"\"\"\n",
    "    INSERT INTO transactions (account_number, type, amount, timestamp, category)\n",
    "    VALUES (?, ?, ?, ?, ?)\n",
    "    \"\"\", (account, transaction_type, amount, datetime.now(), category))"
   ]
  },
  {
   "cell_type": "code",
   "execution_count": 14,
   "id": "f4387494-4260-4032-a9dd-c2465614d107",
   "metadata": {},
   "outputs": [],
   "source": [
    "def view_transactions(account):\n",
    "    cursor.execute(\"\"\"\n",
    "    SELECT type, amount, timestamp, category\n",
    "    FROM transactions\n",
    "    WHERE account_number = ?\n",
    "    ORDER BY timestamp DESC\n",
    "    LIMIT 10\n",
    "    \"\"\", (account,))\n",
    "    transactions = cursor.fetchall()\n",
    "    if not transactions:\n",
    "        print(\"No transactions found.\")\n",
    "    else:\n",
    "        print(\"\\nRecent Transactions:\")\n",
    "        for transaction in transactions:\n",
    "            print(f\"{transaction[2]} - {transaction[0]}: ${transaction[1]:.2f} (Category: {transaction[3]})\")\n"
   ]
  },
  {
   "cell_type": "code",
   "execution_count": 15,
   "id": "770226d1-9b2f-4fbe-b9db-1bb74163ddfd",
   "metadata": {},
   "outputs": [],
   "source": [
    "def visualize_spending(account):\n",
    "    cursor.execute(\"\"\"\n",
    "    SELECT category, SUM(amount)\n",
    "    FROM transactions\n",
    "    WHERE account_number = ? AND type IN ('withdrawal', 'transfer out')\n",
    "    GROUP BY category\n",
    "    \"\"\", (account,))\n",
    "    spending = cursor.fetchall()\n",
    "    if not spending:\n",
    "        print(\"No spending data available.\")\n",
    "        return\n",
    "    categories, amounts = zip(*spending)\n",
    "    plt.figure(figsize=(10, 6))\n",
    "    plt.pie(amounts, labels=categories, autopct='%1.1f%%')\n",
    "    plt.title(\"Spending by Category\")\n",
    "    plt.axis('equal')\n",
    "    plt.show()"
   ]
  },
  {
   "cell_type": "code",
   "execution_count": 16,
   "id": "c9a9d519-3a91-4f89-81b0-57fc092df040",
   "metadata": {},
   "outputs": [],
   "source": [
    "def change_pin(account):\n",
    "    current_pin = getpass(\"Enter your current PIN: \")\n",
    "    cursor.execute(\"SELECT pin_hash FROM accounts WHERE account_number = ?\", (account,))\n",
    "    stored_hash = cursor.fetchone()[0]\n",
    "    if hash_pin(current_pin) != stored_hash:\n",
    "        print(\"Incorrect PIN!\")\n",
    "        return\n",
    "    new_pin = getpass(\"Enter your new PIN: \")\n",
    "    confirm_pin = getpass(\"Confirm your new PIN: \")\n",
    "    if new_pin != confirm_pin:\n",
    "        print(\"PINs do not match!\")\n",
    "        return\n",
    "    new_hash = hash_pin(new_pin)\n",
    "    cursor.execute(\"UPDATE accounts SET pin_hash = ? WHERE account_number = ?\", (new_hash, account))\n",
    "    conn.commit()\n",
    "    print(\"PIN changed successfully.\")"
   ]
  },
  {
   "cell_type": "markdown",
   "id": "b5011ec2-5906-4766-9c4d-5beb898180e0",
   "metadata": {},
   "source": [
    " main ATM interface."
   ]
  },
  {
   "cell_type": "code",
   "execution_count": 17,
   "id": "9c5970d4-88c0-42c8-8db5-f446a5c58ff2",
   "metadata": {},
   "outputs": [],
   "source": [
    "def atm_interface():\n",
    "    while True:\n",
    "        account = input(\"Enter your account number (or 'q' to quit): \")\n",
    "        if account.lower() == 'q':\n",
    "            print(\"Thank you for using our ATM. Goodbye!\")\n",
    "            break\n",
    "        \n",
    "        cursor.execute(\"SELECT pin_hash, name FROM accounts WHERE account_number = ?\", (account,))\n",
    "        result = cursor.fetchone()\n",
    "        if result is None:\n",
    "            print(\"Account not found!\")\n",
    "            continue\n",
    "        \n",
    "        stored_hash, name = result\n",
    "        pin = getpass(\"Enter your PIN: \")\n",
    "        if hash_pin(pin) != stored_hash:\n",
    "            print(\"Incorrect PIN!\")\n",
    "            continue\n",
    "        \n",
    "        print(f\"\\nWelcome, {name}!\")\n",
    "        \n",
    "        while True:\n",
    "            print(\"\\n1. Check Balance\")\n",
    "            print(\"2. Withdraw\")\n",
    "            print(\"3. Deposit\")\n",
    "            print(\"4. Transfer\")\n",
    "            print(\"5. View Recent Transactions\")\n",
    "            print(\"6. Visualize Spending\")\n",
    "            print(\"7. Change PIN\")\n",
    "            print(\"8. Logout\")\n",
    "            \n",
    "            choice = input(\"Enter your choice: \")\n",
    "            \n",
    "            if choice == '1':\n",
    "                check_balance(account)\n",
    "            elif choice == '2':\n",
    "                withdraw(account)\n",
    "            elif choice == '3':\n",
    "                deposit(account)\n",
    "            elif choice == '4':\n",
    "                transfer(account)\n",
    "            elif choice == '5':\n",
    "                view_transactions(account)\n",
    "            elif choice == '6':\n",
    "                visualize_spending(account)\n",
    "            elif choice == '7':\n",
    "                change_pin(account)\n",
    "            elif choice == '8':\n",
    "                print(\"Logged out successfully.\")\n",
    "                break\n",
    "            else:\n",
    "                print(\"Invalid choice. Please try again.\")"
   ]
  },
  {
   "cell_type": "code",
   "execution_count": 18,
   "id": "ab71b673-b770-44ce-8084-e68d1149c2f3",
   "metadata": {},
   "outputs": [
    {
     "name": "stdin",
     "output_type": "stream",
     "text": [
      "Enter your account number (or 'q' to quit):  12345\n",
      "Enter your PIN:  ········\n"
     ]
    },
    {
     "name": "stdout",
     "output_type": "stream",
     "text": [
      "\n",
      "Welcome, Alice!\n",
      "\n",
      "1. Check Balance\n",
      "2. Withdraw\n",
      "3. Deposit\n",
      "4. Transfer\n",
      "5. View Recent Transactions\n",
      "6. Visualize Spending\n",
      "7. Change PIN\n",
      "8. Logout\n"
     ]
    },
    {
     "name": "stdin",
     "output_type": "stream",
     "text": [
      "Enter your choice:  5\n"
     ]
    },
    {
     "name": "stdout",
     "output_type": "stream",
     "text": [
      "No transactions found.\n",
      "\n",
      "1. Check Balance\n",
      "2. Withdraw\n",
      "3. Deposit\n",
      "4. Transfer\n",
      "5. View Recent Transactions\n",
      "6. Visualize Spending\n",
      "7. Change PIN\n",
      "8. Logout\n"
     ]
    },
    {
     "name": "stdin",
     "output_type": "stream",
     "text": [
      "Enter your choice:  4\n",
      "Enter the account number to transfer to:  67890\n",
      "Enter the amount to transfer: $ 500\n",
      "Enter transaction category (e.g., food, entertainment, bills):  BILLS\n",
      "Enter transaction category (e.g., food, entertainment, bills):  bills\n"
     ]
    },
    {
     "name": "stdout",
     "output_type": "stream",
     "text": [
      "Transferred $500.00 to account 67890.\n",
      "New balance: $500.00\n",
      "\n",
      "1. Check Balance\n",
      "2. Withdraw\n",
      "3. Deposit\n",
      "4. Transfer\n",
      "5. View Recent Transactions\n",
      "6. Visualize Spending\n",
      "7. Change PIN\n",
      "8. Logout\n"
     ]
    },
    {
     "name": "stdin",
     "output_type": "stream",
     "text": [
      "Enter your choice:  5\n"
     ]
    },
    {
     "name": "stdout",
     "output_type": "stream",
     "text": [
      "\n",
      "Recent Transactions:\n",
      "2024-09-20 14:32:17.823099 - transfer out: $-500.00 (Category: BILLS)\n",
      "\n",
      "1. Check Balance\n",
      "2. Withdraw\n",
      "3. Deposit\n",
      "4. Transfer\n",
      "5. View Recent Transactions\n",
      "6. Visualize Spending\n",
      "7. Change PIN\n",
      "8. Logout\n"
     ]
    },
    {
     "name": "stdin",
     "output_type": "stream",
     "text": [
      "Enter your choice:  8\n"
     ]
    },
    {
     "name": "stdout",
     "output_type": "stream",
     "text": [
      "Logged out successfully.\n"
     ]
    },
    {
     "name": "stdin",
     "output_type": "stream",
     "text": [
      "Enter your account number (or 'q' to quit):  q\n"
     ]
    },
    {
     "name": "stdout",
     "output_type": "stream",
     "text": [
      "Thank you for using our ATM. Goodbye!\n"
     ]
    }
   ],
   "source": [
    "# Run the ATM interface\n",
    "atm_interface()"
   ]
  },
  {
   "cell_type": "markdown",
   "id": "5488bd7d-8007-4806-bcdb-189a311dd67b",
   "metadata": {},
   "source": [
    "## 3. Implementation Details"
   ]
  },
  {
   "cell_type": "markdown",
   "id": "fc05ef75-75a7-43d8-a7a0-3906dc922437",
   "metadata": {},
   "source": [
    "## 3.1 Core Functions"
   ]
  },
  {
   "cell_type": "markdown",
   "id": "7cabe91d-cefa-4d56-b876-9125a26d5fd2",
   "metadata": {},
   "source": [
    "* check_balance(account): Retrieves and displays the current balance\n",
    "* withdraw(account): Handles cash withdrawal\n",
    "* deposit(account): Processes cash deposits\n",
    "* transfer(account): Manages fund transfers between accounts\n",
    "* log_transaction(account, transaction_type, amount): Records all transactions\n",
    "* view_transactions(account): Displays recent transactions\n",
    "* visualize_spending(account): Generates a pie chart of spending by category\n",
    "* change_pin(account): Allows users to change their PIN"
   ]
  },
  {
   "cell_type": "markdown",
   "id": "2853e063-7999-4dbf-9cd3-997f406870be",
   "metadata": {},
   "source": [
    "### 3.2 Main Interface"
   ]
  },
  {
   "cell_type": "markdown",
   "id": "ca30b81e-09e2-4c6d-85fb-f0d8fa71cd8f",
   "metadata": {},
   "source": [
    "The atm_interface() function serves as the main program loop, handling user authentication and menu navigation."
   ]
  },
  {
   "cell_type": "markdown",
   "id": "ef0d0174-ad0e-4ba9-96f8-8a17fb94b69c",
   "metadata": {},
   "source": [
    "### 3.3 Data Visualization"
   ]
  },
  {
   "cell_type": "markdown",
   "id": "29e78c49-85fb-48b6-8cc9-60c3c049fc45",
   "metadata": {},
   "source": [
    "The spending visualization feature uses Matplotlib to create a pie chart, offering users a graphical representation of their spending patterns."
   ]
  },
  {
   "cell_type": "markdown",
   "id": "d87737bd-09da-4298-ba7d-aa48b4cf7c38",
   "metadata": {},
   "source": [
    "## 4. Advanced Features\n",
    "### 4.1 Database Integration\n",
    "Unlike basic implementations that use in-memory data structures, this project uses SQLite for persistent storage. This allows for data retention between sessions and demonstrates database management skills.\n",
    "### 4.2 Transaction Categorization\n",
    "Users can categorize each transaction, enabling more detailed financial tracking and analysis.\n",
    "### 4.3 Spending Visualization\n",
    "The system can generate a pie chart of user spending by category, providing valuable insights into spending habits.\n",
    "### 4.4 Enhanced Security\n",
    "PINs are securely hashed before storage, and users can change their PINs. This demonstrates an understanding of basic security practices in financial systems."
   ]
  },
  {
   "cell_type": "markdown",
   "id": "a86c9336-1b28-46a3-856b-d14036df1b6b",
   "metadata": {},
   "source": [
    "## 5. Challenges and Solutions\n",
    "### 5.1 Database Management\n",
    "Challenge: Implementing a persistent storage solution.\n",
    "Solution: Utilized SQLite, a lightweight database that doesn't require a separate server process.\n",
    "### 5.2 Security Implementation\n",
    "Challenge: Storing PINs securely.\n",
    "Solution: Implemented PIN hashing using the SHA-256 algorithm.\n",
    "### 5.3 Data Visualization\n",
    "Challenge: Providing user-friendly insights into spending habits.\n",
    "Solution: Integrated Matplotlib to create visual representations of transaction data.\n",
    "## 6. Future Enhancements\n",
    "Several potential improvements have been identified for future development:\n",
    "\n",
    "* Graphical User Interface (GUI): Implement a user-friendly GUI using libraries like Tkinter or PyQt.\n",
    "* Multi-Currency Support: Add functionality to handle multiple currencies and perform conversions.\n",
    "* Scheduled Transactions: Implement features for setting up recurring payments or transfers.\n",
    "* Account Types: Introduce different types of accounts (e.g., savings, checking) with varying interest rates.\n",
    "* Web Interface: Develop a web-based version of the ATM interface using frameworks like Flask or Django."
   ]
  },
  {
   "cell_type": "markdown",
   "id": "bffd5702-c574-4a35-a831-f1c2b228575e",
   "metadata": {},
   "source": [
    "## 7. Conclusion\n",
    "This project successfully delivered a fully functional ATM interface with several advanced features, meeting and exceeding the initial project requirements. The implementation demonstrates proficiency in Python programming, database management, security considerations, and data visualization.\n",
    "The modular design of the system allows for easy maintenance and future enhancements. The inclusion of advanced features like spending visualization and transaction categorization adds significant value to the basic ATM functionality.\n",
    "This project has provided valuable experience in software development practices, database integration, and creating user-centric financial applications."
   ]
  },
  {
   "cell_type": "code",
   "execution_count": null,
   "id": "6a5a8a9f-94dd-40d6-bd0a-8cca799f9ba4",
   "metadata": {},
   "outputs": [],
   "source": []
  }
 ],
 "metadata": {
  "kernelspec": {
   "display_name": "Python 3 (ipykernel)",
   "language": "python",
   "name": "python3"
  },
  "language_info": {
   "codemirror_mode": {
    "name": "ipython",
    "version": 3
   },
   "file_extension": ".py",
   "mimetype": "text/x-python",
   "name": "python",
   "nbconvert_exporter": "python",
   "pygments_lexer": "ipython3",
   "version": "3.8.19"
  }
 },
 "nbformat": 4,
 "nbformat_minor": 5
}
